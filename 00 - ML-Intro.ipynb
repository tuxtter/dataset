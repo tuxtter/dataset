{
 "cells": [
  {
   "cell_type": "markdown",
   "id": "6df67a2e-b12a-4405-b0d3-329d697bd2fa",
   "metadata": {},
   "source": [
    "# **Python + Machine Learning**\n",
    "\n",
    "## **Requirements**"
   ]
  },
  {
   "cell_type": "code",
   "execution_count": 3,
   "id": "02aa2a07-460a-417e-abac-53de6bbfd2e5",
   "metadata": {},
   "outputs": [
    {
     "name": "stdout",
     "output_type": "stream",
     "text": [
      "scipy: 1.11.1\n",
      "numpy: 1.23.5\n",
      "matplotlib: 3.7.1\n",
      "pandas: 2.0.3\n",
      "sklearn: 1.3.0\n"
     ]
    }
   ],
   "source": [
    "# scipy\n",
    "import scipy\n",
    "print('scipy: {}'.format(scipy.__version__))\n",
    "# numpy\n",
    "import numpy\n",
    "print('numpy: {}'.format(numpy.__version__))\n",
    "# matplotlib\n",
    "import matplotlib\n",
    "print('matplotlib: {}'.format(matplotlib.__version__))\n",
    "# pandas\n",
    "import pandas\n",
    "print('pandas: {}'.format(pandas.__version__))\n",
    "# scikit-learn\n",
    "import sklearn\n",
    "print('sklearn: {}'.format(sklearn.__version__))"
   ]
  },
  {
   "cell_type": "markdown",
   "id": "ffed226e-64de-4f0e-8f6e-e7b4cbf8da3c",
   "metadata": {},
   "source": [
    "# **Python Crash Course**\n",
    "\n",
    "    When getting started in Python you need to know a few key details about the language syntax to be able to read and understand Python code.\n",
    "\n",
    "    This includes:\n",
    "\n",
    "        - Assignment.\n",
    "        - Flow control.\n",
    "        - Data structures.\n",
    "        - Functions.\n",
    "\n",
    "## **Assignment**."
   ]
  },
  {
   "cell_type": "code",
   "execution_count": 8,
   "id": "0492838c-8e78-4d7c-bb3a-840c030d6727",
   "metadata": {},
   "outputs": [
    {
     "name": "stdout",
     "output_type": "stream",
     "text": [
      "h\n",
      "11\n",
      "hello world\n"
     ]
    }
   ],
   "source": [
    "# Strings\n",
    "data = 'hello world'\n",
    "print(data[0])\n",
    "print(len(data))\n",
    "print(data)"
   ]
  },
  {
   "cell_type": "code",
   "execution_count": 5,
   "id": "9d450d0b-40a6-4106-9655-461f0142871f",
   "metadata": {},
   "outputs": [
    {
     "name": "stdout",
     "output_type": "stream",
     "text": [
      "123.1\n",
      "10\n"
     ]
    }
   ],
   "source": [
    "# Numbers\n",
    "value = 123.1\n",
    "print(value)\n",
    "value = 10\n",
    "print(value)"
   ]
  },
  {
   "cell_type": "code",
   "execution_count": 6,
   "id": "04f5c6a6-e792-4aea-bd38-5fdc4667b46b",
   "metadata": {},
   "outputs": [
    {
     "name": "stdout",
     "output_type": "stream",
     "text": [
      "True False\n"
     ]
    }
   ],
   "source": [
    "# Boolean\n",
    "a = True\n",
    "b = False\n",
    "print(a, b)"
   ]
  },
  {
   "cell_type": "code",
   "execution_count": 7,
   "id": "7265ebcf-f7dd-4296-8394-1b374dfc189b",
   "metadata": {},
   "outputs": [
    {
     "name": "stdout",
     "output_type": "stream",
     "text": [
      "1 2 3\n"
     ]
    }
   ],
   "source": [
    "# Multiple Assignment\n",
    "a, b, c = 1, 2, 3\n",
    "print(a, b, c)"
   ]
  },
  {
   "cell_type": "code",
   "execution_count": 8,
   "id": "6f026e07-2291-493e-8a24-fa35a170e284",
   "metadata": {},
   "outputs": [
    {
     "name": "stdout",
     "output_type": "stream",
     "text": [
      "None\n"
     ]
    }
   ],
   "source": [
    "# No value\n",
    "a = None\n",
    "print(a)"
   ]
  },
  {
   "cell_type": "markdown",
   "id": "755002ef-8ffc-44d9-8363-994501ab0576",
   "metadata": {},
   "source": [
    "## **Flow Control**"
   ]
  },
  {
   "cell_type": "code",
   "execution_count": 11,
   "id": "c5828dcc-a072-4139-9a35-55237000513f",
   "metadata": {},
   "outputs": [
    {
     "name": "stdout",
     "output_type": "stream",
     "text": [
      "That is fast\n"
     ]
    }
   ],
   "source": [
    "#Flow control\n",
    "value = 99\n",
    "if value == 99:\n",
    "  print('That is fast')\n",
    "elif value > 200:\n",
    "  print('That is too fast')\n",
    "else:\n",
    "  print('That is safe')"
   ]
  },
  {
   "cell_type": "code",
   "execution_count": 13,
   "id": "6fe81fbf-26a7-4b78-99b4-372cd01d4dea",
   "metadata": {},
   "outputs": [
    {
     "name": "stdout",
     "output_type": "stream",
     "text": [
      "0\n",
      "1\n",
      "2\n",
      "3\n",
      "4\n",
      "5\n",
      "6\n",
      "7\n",
      "8\n",
      "9\n"
     ]
    }
   ],
   "source": [
    "# For-Loop\n",
    "for i in range(10):\n",
    " print(i)"
   ]
  },
  {
   "cell_type": "code",
   "execution_count": 1,
   "id": "5fdcf771-0ecf-49ff-a7ec-7e4d5f4f9f94",
   "metadata": {},
   "outputs": [
    {
     "name": "stdout",
     "output_type": "stream",
     "text": [
      "0\n",
      "1\n",
      "2\n",
      "3\n",
      "4\n",
      "5\n",
      "6\n",
      "7\n",
      "8\n",
      "9\n"
     ]
    }
   ],
   "source": [
    "# While-Loop\n",
    "i = 0\n",
    "while i < 10:\n",
    " print(i)\n",
    " i += 1"
   ]
  },
  {
   "cell_type": "markdown",
   "id": "f6314540-4cff-4a3c-ba3b-652aa0e2d4e4",
   "metadata": {},
   "source": [
    "## **Data Structures**"
   ]
  },
  {
   "cell_type": "code",
   "execution_count": 2,
   "id": "9b951393-4e52-4b28-9ad1-2f1c966254cc",
   "metadata": {},
   "outputs": [
    {
     "name": "stdout",
     "output_type": "stream",
     "text": [
      "(1, 2, 3)\n"
     ]
    }
   ],
   "source": [
    "#Tuplas\n",
    "a = (1, 2, 3)\n",
    "print(a)"
   ]
  },
  {
   "cell_type": "code",
   "execution_count": 5,
   "id": "97385b67-05c8-435a-9915-818f4f7e0f19",
   "metadata": {},
   "outputs": [
    {
     "name": "stdout",
     "output_type": "stream",
     "text": [
      "Zeroth Value: 1\n",
      "List Length: 4\n",
      "1\n",
      "2\n",
      "3\n",
      "4\n"
     ]
    }
   ],
   "source": [
    "#List\n",
    "mylist = [1, 2, 3]\n",
    "print(\"Zeroth Value: %d\" % (mylist[0]))\n",
    "mylist.append(4)\n",
    "print(\"List Length: %d\" % (len(mylist)))\n",
    "for value in mylist:\n",
    " print(value)"
   ]
  },
  {
   "cell_type": "code",
   "execution_count": 6,
   "id": "3f0f3c92-7dac-4ea1-a634-621a158b53be",
   "metadata": {},
   "outputs": [
    {
     "name": "stdout",
     "output_type": "stream",
     "text": [
      "A value: 1\n",
      "A value: 11\n",
      "Keys: dict_keys(['a', 'b', 'c'])\n",
      "Values: dict_values([11, 2, 3])\n",
      "11\n",
      "2\n",
      "3\n"
     ]
    }
   ],
   "source": [
    "#Dictionary\n",
    "mydict = {'a': 1, 'b': 2, 'c': 3}\n",
    "print(\"A value: %d\" % (mydict['a']))\n",
    "mydict['a'] = 11\n",
    "print(\"A value: %d\" % (mydict['a']))\n",
    "print(\"Keys: %s\" % (mydict.keys()))\n",
    "print(\"Values: %s\" % (mydict.values()))\n",
    "for key in mydict.keys():\n",
    " print(mydict[key])"
   ]
  },
  {
   "cell_type": "markdown",
   "id": "e406bb34-b077-4b20-8167-a0dbeb6da08e",
   "metadata": {},
   "source": [
    "## **Functions**"
   ]
  },
  {
   "cell_type": "code",
   "execution_count": 7,
   "id": "f127a6b6-9114-4daa-9043-eed5fd3785a3",
   "metadata": {},
   "outputs": [
    {
     "name": "stdout",
     "output_type": "stream",
     "text": [
      "4\n"
     ]
    }
   ],
   "source": [
    "# Sum function\n",
    "def mysum(x, y):\n",
    " return x + y\n",
    "# Test sum function\n",
    "result = mysum(1, 3)\n",
    "print(result)"
   ]
  },
  {
   "cell_type": "markdown",
   "id": "cb349a93-a379-4141-a1d4-50db05e5e9de",
   "metadata": {},
   "source": [
    "# **Numpy Crash Course**\n",
    "\n",
    "    NumPy provides the foundation data structures and operations for SciPy.\n",
    "    \n",
    "    These are arrays (ndarrays) that are eficient to define and manipulate.\n",
    "\n",
    "## **Create an array**."
   ]
  },
  {
   "cell_type": "code",
   "execution_count": 10,
   "id": "bae475cb-8115-455f-8d31-812f30b389ad",
   "metadata": {},
   "outputs": [
    {
     "name": "stdout",
     "output_type": "stream",
     "text": [
      "[1 2 3]\n",
      "(3,)\n"
     ]
    }
   ],
   "source": [
    "# define an array\n",
    "import numpy\n",
    "mylist = [1, 2, 3]\n",
    "myarray = numpy.array(mylist)\n",
    "print(myarray)\n",
    "print(myarray.shape)"
   ]
  },
  {
   "cell_type": "markdown",
   "id": "a7527ac2-0f96-4ff3-b737-953c4b36bfb0",
   "metadata": {},
   "source": [
    "## **Access data**"
   ]
  },
  {
   "cell_type": "code",
   "execution_count": 12,
   "id": "bf348d36-8ada-4af6-9441-61be0543d50d",
   "metadata": {},
   "outputs": [
    {
     "name": "stdout",
     "output_type": "stream",
     "text": [
      "[[1 2 3]\n",
      " [3 4 5]]\n",
      "(2, 3)\n",
      "First row: [1 2 3]\n",
      "Last row: [3 4 5]\n",
      "Specific row and col: 3\n",
      "Whole col: [3 5]\n"
     ]
    }
   ],
   "source": [
    "# access values\n",
    "import numpy\n",
    "mylist = [[1, 2, 3], [3, 4, 5]]\n",
    "myarray = numpy.array(mylist)\n",
    "print(myarray)\n",
    "print(myarray.shape)\n",
    "print(\"First row: %s\" % (myarray[0]))\n",
    "print(\"Last row: %s\" % (myarray[-1]))\n",
    "print(\"Specific row and col: %s\" % (myarray[0, 2]))\n",
    "print(\"Whole col: %s\" % (myarray[:, 2]))"
   ]
  },
  {
   "cell_type": "markdown",
   "id": "66ed1ba1-0c6e-4b17-84f0-35e34a6fcb7a",
   "metadata": {},
   "source": [
    "## **Arithmetic**"
   ]
  },
  {
   "cell_type": "code",
   "execution_count": 14,
   "id": "4b692b9b-712a-45e9-a27b-233c829f8a25",
   "metadata": {},
   "outputs": [
    {
     "name": "stdout",
     "output_type": "stream",
     "text": [
      "Addition: [5 5 5]\n",
      "Multiplication: [6 6 6]\n"
     ]
    }
   ],
   "source": [
    "# arithmetic\n",
    "import numpy\n",
    "myarray1 = numpy.array([2, 2, 2])\n",
    "myarray2 = numpy.array([3, 3, 3])\n",
    "print(\"Addition: %s\" % (myarray1 + myarray2))\n",
    "print(\"Multiplication: %s\" % (myarray1 * myarray2))"
   ]
  },
  {
   "cell_type": "markdown",
   "id": "291b979f-099c-4889-9367-b0f1be9838ea",
   "metadata": {},
   "source": [
    "# **MathPlotLib Crash Course**\n",
    "\n",
    "    Matplotlib can be used for creating plots and charts.\n",
    "    \n",
    "    The library is generally used as follows:\n",
    "    \n",
    "        - Call a plotting function with some data as .plot()\n",
    "        - Call many functions to setup the properties of the plot as labels or colors\n",
    "        - Make the plot visible with .show()\n",
    "\n",
    "## **Line plot**"
   ]
  },
  {
   "cell_type": "code",
   "execution_count": 15,
   "id": "30ee6ce1-7c67-4b9e-9571-193905e69a65",
   "metadata": {},
   "outputs": [
    {
     "data": {
      "image/png": "[encoded data removed]",
      "text/plain": [
       "<Figure size 640x480 with 1 Axes>"
      ]
     },
     "metadata": {},
     "output_type": "display_data"
    }
   ],
   "source": [
    "# basic line plot\n",
    "import matplotlib.pyplot as plt\n",
    "import numpy\n",
    "myarray = numpy.array([1, 2, 3])\n",
    "plt.plot(myarray)\n",
    "plt.xlabel('some x axis')\n",
    "plt.ylabel('some y axis')\n",
    "plt.show()"
   ]
  },
  {
   "cell_type": "markdown",
   "id": "53ee3dc9-0fc0-4da8-9ef9-c0d3d9604342",
   "metadata": {},
   "source": [
    "## **Scatter plot**"
   ]
  },
  {
   "cell_type": "code",
   "execution_count": 16,
   "id": "6590f7cb-3ce0-403c-875a-236ef7f21726",
   "metadata": {},
   "outputs": [
    {
     "data": {
      "image/png": "[encoded data removed]",
      "text/plain": [
       "<Figure size 640x480 with 1 Axes>"
      ]
     },
     "metadata": {},
     "output_type": "display_data"
    }
   ],
   "source": [
    "# basic scatter plot\n",
    "import matplotlib.pyplot as plt\n",
    "import numpy\n",
    "x = numpy.array([1, 2, 3])\n",
    "y = numpy.array([2, 4, 6])\n",
    "plt.scatter(x,y)\n",
    "plt.xlabel('some x axis')\n",
    "plt.ylabel('some y axis')\n",
    "plt.show()"
   ]
  },
  {
   "cell_type": "markdown",
   "id": "fc2cc6dd-28f9-449f-83ca-88a4b2a15850",
   "metadata": {},
   "source": [
    "# **Pandas Crash Course**\n",
    "\n",
    "    Pandas provides data structures and functionality to quickly manipulate and analyze data.\n",
    "    \n",
    "    The key to understanding Pandas for machine learning is understanding the Series and DataFrame data structures.\n",
    "\n",
    "## **Series**"
   ]
  },
  {
   "cell_type": "code",
   "execution_count": 17,
   "id": "9186cdc2-6350-49ac-b492-58b160965763",
   "metadata": {},
   "outputs": [
    {
     "name": "stdout",
     "output_type": "stream",
     "text": [
      "a    1\n",
      "b    2\n",
      "c    3\n",
      "dtype: int64\n"
     ]
    }
   ],
   "source": [
    "# series\n",
    "import numpy\n",
    "import pandas\n",
    "myarray = numpy.array([1, 2, 3])\n",
    "rownames = ['a', 'b', 'c']\n",
    "myseries = pandas.Series(myarray, index=rownames)\n",
    "print(myseries)"
   ]
  },
  {
   "cell_type": "code",
   "execution_count": 18,
   "id": "e2937a46-cd0e-40c0-bc7d-11d8f83eb20c",
   "metadata": {},
   "outputs": [
    {
     "name": "stdout",
     "output_type": "stream",
     "text": [
      "1\n",
      "1\n"
     ]
    }
   ],
   "source": [
    "print(myseries[0])\n",
    "print(myseries['a'])"
   ]
  },
  {
   "cell_type": "markdown",
   "id": "eb31c3a8-5eea-4005-81bf-89fc8654135c",
   "metadata": {},
   "source": [
    "## **DataFrame**\n",
    "\n",
    "    A data frame is a multi-dimensional array where the rows and the columns can be labeled."
   ]
  },
  {
   "cell_type": "code",
   "execution_count": 19,
   "id": "5caede42-cc4d-48ab-8c72-f48d40e1f832",
   "metadata": {},
   "outputs": [
    {
     "name": "stdout",
     "output_type": "stream",
     "text": [
      "   one  two  three\n",
      "a    1    2      3\n",
      "b    4    5      6\n"
     ]
    }
   ],
   "source": [
    "# dataframe\n",
    "import numpy\n",
    "import pandas\n",
    "myarray = numpy.array([[1, 2, 3], [4, 5, 6]])\n",
    "rownames = ['a', 'b']\n",
    "colnames = ['one', 'two', 'three']\n",
    "mydataframe = pandas.DataFrame(myarray, index=rownames, columns=colnames)\n",
    "print(mydataframe)"
   ]
  },
  {
   "cell_type": "code",
   "execution_count": 23,
   "id": "456fd64a-ee4d-4959-82d9-1ece6c39dabd",
   "metadata": {},
   "outputs": [
    {
     "name": "stdout",
     "output_type": "stream",
     "text": [
      "method 1:\n",
      "one column: \n",
      "a    1\n",
      "b    4\n",
      "Name: one, dtype: int64\n",
      "method 2:\n",
      "one column: \n",
      "a    1\n",
      "b    4\n",
      "Name: one, dtype: int64\n"
     ]
    }
   ],
   "source": [
    "print(\"method 1:\")\n",
    "print(\"one column: \\n%s\" % (mydataframe['one']))\n",
    "print(\"method 2:\")\n",
    "print(\"one column: \\n%s\" % (mydataframe.one))"
   ]
  },
  {
   "cell_type": "markdown",
   "id": "140ae268-b38e-4a88-b93a-4ba8b4fa26f5",
   "metadata": {},
   "source": [
    "## **Summary**\n",
    "\n",
    "\tYou have covered a lot of ground in this lesson. You discovered basic syntax and usage of Python and three key Python libraries used for machine learning:\n",
    "\n",
    "\t\t- NumPy.\n",
    "\t\t- Matplotlib.\n",
    "\t\t- Pandas."
   ]
  },
  {
   "cell_type": "code",
   "execution_count": null,
   "id": "0a5d77bf-85fa-4389-a538-dfc41b4830cb",
   "metadata": {},
   "outputs": [],
   "source": []
  }
 ],
 "metadata": {
  "kernelspec": {
   "display_name": "Python 3 (ipykernel)",
   "language": "python",
   "name": "python3"
  },
  "language_info": {
   "codemirror_mode": {
    "name": "ipython",
    "version": 3
   },
   "file_extension": ".py",
   "mimetype": "text/x-python",
   "name": "python",
   "nbconvert_exporter": "python",
   "pygments_lexer": "ipython3",
   "version": "3.11.4"
  }
 },
 "nbformat": 4,
 "nbformat_minor": 5
}
